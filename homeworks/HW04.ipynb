{
 "cells": [
  {
   "cell_type": "markdown",
   "id": "7b0deeea",
   "metadata": {},
   "source": [
    "# HW04: RDD and Diff-in-Diff (due 26th October)\n",
    "\n",
    "**You will have to solve only one of the two parts (either the RDD or the DiD) to get full credit for this homework.**\n",
    "\n",
    "In this homework you will investigate the causal effect in two different settings, applying different **identification strategies**, You will also reflect and investigate the identification assumptions that allow for a causal interpretation. "
   ]
  },
  {
   "cell_type": "markdown",
   "id": "d9f8f927",
   "metadata": {},
   "source": [
    "## Regression Discontinuity Design\n",
    "\n",
    "In this first part you will use data on mayors from municipalities in Brazil to invesitgate th effect of electoral accountability on corruption. The goal is to estimate the effect of being eligible for reelection (having reelection incentives) on misappropriation of resources exploiting random audits on municipalities before the elections. In Brazil there is a two mandate limit for mayors, implying that only mayors in the first mandate can be reelected. The reference paper is [Ferraz and Finan (2011)](https://www.aeaweb.org/articles?id=10.1257/aer.101.4.1274)."
   ]
  },
  {
   "cell_type": "code",
   "execution_count": 1,
   "id": "b19fe019",
   "metadata": {},
   "outputs": [
    {
     "name": "stdout",
     "output_type": "stream",
     "text": [
      "Collecting rdrobust\n",
      "  Downloading rdrobust-1.0.4-py3-none-any.whl (30 kB)\n",
      "Collecting sklearn\n",
      "  Downloading sklearn-0.0.tar.gz (1.1 kB)\n",
      "Requirement already satisfied: scipy in /opt/miniconda3/lib/python3.9/site-packages (from rdrobust) (1.7.1)\n",
      "Collecting pandas\n",
      "  Downloading pandas-1.3.4-cp39-cp39-macosx_10_9_x86_64.whl (11.6 MB)\n",
      "\u001b[K     |████████████████████████████████| 11.6 MB 856 kB/s eta 0:00:01\n",
      "\u001b[?25hRequirement already satisfied: numpy in /opt/miniconda3/lib/python3.9/site-packages (from rdrobust) (1.21.2)\n",
      "Collecting plotnine\n",
      "  Downloading plotnine-0.8.0-py3-none-any.whl (4.7 MB)\n",
      "\u001b[K     |████████████████████████████████| 4.7 MB 2.5 MB/s eta 0:00:01\n",
      "\u001b[?25hCollecting pytz>=2017.3\n",
      "  Downloading pytz-2021.3-py2.py3-none-any.whl (503 kB)\n",
      "\u001b[K     |████████████████████████████████| 503 kB 38.1 MB/s eta 0:00:01\n",
      "\u001b[?25hRequirement already satisfied: python-dateutil>=2.7.3 in /opt/miniconda3/lib/python3.9/site-packages (from pandas->rdrobust) (2.8.2)\n",
      "Requirement already satisfied: six>=1.5 in /opt/miniconda3/lib/python3.9/site-packages (from python-dateutil>=2.7.3->pandas->rdrobust) (1.16.0)\n",
      "Collecting patsy>=0.5.1\n",
      "  Downloading patsy-0.5.2-py2.py3-none-any.whl (233 kB)\n",
      "\u001b[K     |████████████████████████████████| 233 kB 21.3 MB/s eta 0:00:01\n",
      "\u001b[?25hCollecting descartes>=1.1.0\n",
      "  Downloading descartes-1.1.0-py3-none-any.whl (5.8 kB)\n",
      "Collecting statsmodels>=0.12.1\n",
      "  Downloading statsmodels-0.13.0-cp39-cp39-macosx_10_15_x86_64.whl (9.6 MB)\n",
      "\u001b[K     |████████████████████████████████| 9.6 MB 12.5 MB/s eta 0:00:01\n",
      "\u001b[?25hCollecting matplotlib>=3.1.1\n",
      "  Downloading matplotlib-3.4.3-cp39-cp39-macosx_10_9_x86_64.whl (7.2 MB)\n",
      "\u001b[K     |████████████████████████████████| 7.2 MB 18.5 MB/s eta 0:00:01\n",
      "\u001b[?25hCollecting mizani>=0.7.3\n",
      "  Downloading mizani-0.7.3-py3-none-any.whl (63 kB)\n",
      "\u001b[K     |████████████████████████████████| 63 kB 4.5 MB/s  eta 0:00:01\n",
      "\u001b[?25hCollecting pillow>=6.2.0\n",
      "  Downloading Pillow-8.4.0-cp39-cp39-macosx_10_10_x86_64.whl (3.0 MB)\n",
      "\u001b[K     |████████████████████████████████| 3.0 MB 2.8 MB/s eta 0:00:01\n",
      "\u001b[?25hCollecting cycler>=0.10\n",
      "  Downloading cycler-0.10.0-py2.py3-none-any.whl (6.5 kB)\n",
      "Requirement already satisfied: pyparsing>=2.2.1 in /opt/miniconda3/lib/python3.9/site-packages (from matplotlib>=3.1.1->plotnine->rdrobust) (2.4.7)\n",
      "Collecting kiwisolver>=1.0.1\n",
      "  Downloading kiwisolver-1.3.2-cp39-cp39-macosx_10_9_x86_64.whl (61 kB)\n",
      "\u001b[K     |████████████████████████████████| 61 kB 627 kB/s  eta 0:00:01\n",
      "\u001b[?25hCollecting palettable\n",
      "  Downloading palettable-3.3.0-py2.py3-none-any.whl (111 kB)\n",
      "\u001b[K     |████████████████████████████████| 111 kB 19.5 MB/s eta 0:00:01\n",
      "\u001b[?25hRequirement already satisfied: scikit-learn in /opt/miniconda3/lib/python3.9/site-packages (from sklearn->rdrobust) (1.0)\n",
      "Requirement already satisfied: threadpoolctl>=2.0.0 in /opt/miniconda3/lib/python3.9/site-packages (from scikit-learn->sklearn->rdrobust) (3.0.0)\n",
      "Requirement already satisfied: joblib>=0.11 in /opt/miniconda3/lib/python3.9/site-packages (from scikit-learn->sklearn->rdrobust) (1.1.0)\n",
      "Building wheels for collected packages: sklearn\n",
      "  Building wheel for sklearn (setup.py) ... \u001b[?25ldone\n",
      "\u001b[?25h  Created wheel for sklearn: filename=sklearn-0.0-py2.py3-none-any.whl size=1316 sha256=af0da97145a923f7273f924e743b2aed4d8314625a2b0cce949456a54080f889\n",
      "  Stored in directory: /Users/hande/Library/Caches/pip/wheels/e4/7b/98/b6466d71b8d738a0c547008b9eb39bf8676d1ff6ca4b22af1c\n",
      "Successfully built sklearn\n",
      "Installing collected packages: pytz, pillow, kiwisolver, cycler, patsy, pandas, palettable, matplotlib, statsmodels, mizani, descartes, sklearn, plotnine, rdrobust\n",
      "Successfully installed cycler-0.10.0 descartes-1.1.0 kiwisolver-1.3.2 matplotlib-3.4.3 mizani-0.7.3 palettable-3.3.0 pandas-1.3.4 patsy-0.5.2 pillow-8.4.0 plotnine-0.8.0 pytz-2021.3 rdrobust-1.0.4 sklearn-0.0 statsmodels-0.13.0\n"
     ]
    }
   ],
   "source": [
    "!pip install rdrobust"
   ]
  },
  {
   "cell_type": "code",
   "execution_count": 4,
   "id": "4f70befc",
   "metadata": {},
   "outputs": [],
   "source": [
    "from rdrobust import rdrobust, rdbwselect, rdplot\n",
    "import pandas as pd \n",
    "import warnings\n",
    "warnings.filterwarnings('ignore', category=FutureWarning)\n",
    "warnings.filterwarnings('ignore', category=DeprecationWarning)\n",
    "warnings.filterwarnings = lambda *a, **kw: None\n"
   ]
  },
  {
   "cell_type": "code",
   "execution_count": 5,
   "id": "33fe8062",
   "metadata": {},
   "outputs": [
    {
     "name": "stderr",
     "output_type": "stream",
     "text": [
      "/opt/miniconda3/lib/python3.9/site-packages/pandas/io/stata.py:1457: UnicodeWarning: \n",
      "One or more strings in the dta file could not be decoded using utf-8, and\n",
      "so the fallback encoding of latin-1 is being used.  This can happen when a file\n",
      "has been incorrectly encoded by Stata or some other software. You should verify\n",
      "the string values returned are correct.\n"
     ]
    }
   ],
   "source": [
    "df = pd.read_stata('data/HW04_data_rdd.dta')"
   ]
  },
  {
   "cell_type": "code",
   "execution_count": 6,
   "id": "aa2ea9b6",
   "metadata": {},
   "outputs": [
    {
     "data": {
      "text/plain": [
       "{'uf': 'state',\n",
       " 'nsorteio': 'Número do sorteio',\n",
       " 'totrecursos': 'Total de recurso fiscalizado no municipio',\n",
       " 'tot_os': 'Total de OS fiscalizadas no municipio',\n",
       " 'pop': 'População no ano de 2000',\n",
       " 'purb': 'Proporção da população urbana no ano de 2000',\n",
       " 'p_secundario': 'Proporção da população com 18 anos ou mais com secundario completo',\n",
       " 'cod_ibge6': 'cod_ibge6',\n",
       " 'pib_capita_02': 'PIB per capita deflacionado em reais de 2001',\n",
       " 'op_01_04': 'Dummy se o munic teve orçamento participativo no periodo',\n",
       " 'reeleito': 'Dummy de reeleição',\n",
       " 'ENEP2000': '2000 ENEP',\n",
       " 'ENLP2000': '2000 ENLP',\n",
       " 'pref_idade_tse': 'Idade do prefeito',\n",
       " 'comarca': 'Sede de Comarca',\n",
       " 'reeleito_2004': 'Dummy dos candidatos que se reelegeram na eleição de 2004',\n",
       " 'p_cad_pref': 'Proporção de vereadores eleitos do mesmo partido do prefeito',\n",
       " 'rec_transf_correntes': '(mean) rec_transf_correntes',\n",
       " 'gini_ipea': '',\n",
       " 'fiscalizacoes': 'Total ordens de serviço dada pela planilha CGU',\n",
       " 'valor_fiscalizado': 'Total ordens de serviço dada pela planilha CGU',\n",
       " 'incumbent': '(sum) incumbent',\n",
       " 'vereador9600': '',\n",
       " 'pmismanagement': '',\n",
       " 'elected1': '',\n",
       " 'first': '',\n",
       " 'lpib02': '',\n",
       " 'lpop': '',\n",
       " 'pref_masc': '',\n",
       " 'pref_escola': '',\n",
       " 'media2': '',\n",
       " 'vereador_eleit': '',\n",
       " 'mun_novo': '',\n",
       " 'exp_prefeito': '',\n",
       " 'samepartygov98': '',\n",
       " 'lrec_trans': '',\n",
       " 'lfunc_ativ': '',\n",
       " 'lrec_fisc': '',\n",
       " 'ncorrupt': '',\n",
       " 'valor_corrupt': '',\n",
       " 'pcorrupt': '',\n",
       " 'dcorrupt': '',\n",
       " 'esample2': '',\n",
       " 'wm': 'vote margin',\n",
       " 'winning_margin': 'running variable',\n",
       " 'party': 'party affiliation'}"
      ]
     },
     "execution_count": 6,
     "metadata": {},
     "output_type": "execute_result"
    }
   ],
   "source": [
    "df_labels = pd.read_stata('data/HW04_data_rdd.dta', iterator=True).variable_labels()\n",
    "df_labels"
   ]
  },
  {
   "cell_type": "code",
   "execution_count": 7,
   "id": "ea3d4912",
   "metadata": {
    "scrolled": true
   },
   "outputs": [
    {
     "data": {
      "text/html": [
       "<div>\n",
       "<style scoped>\n",
       "    .dataframe tbody tr th:only-of-type {\n",
       "        vertical-align: middle;\n",
       "    }\n",
       "\n",
       "    .dataframe tbody tr th {\n",
       "        vertical-align: top;\n",
       "    }\n",
       "\n",
       "    .dataframe thead th {\n",
       "        text-align: right;\n",
       "    }\n",
       "</style>\n",
       "<table border=\"1\" class=\"dataframe\">\n",
       "  <thead>\n",
       "    <tr style=\"text-align: right;\">\n",
       "      <th></th>\n",
       "      <th>uf</th>\n",
       "      <th>nsorteio</th>\n",
       "      <th>totrecursos</th>\n",
       "      <th>tot_os</th>\n",
       "      <th>pop</th>\n",
       "      <th>purb</th>\n",
       "      <th>p_secundario</th>\n",
       "      <th>cod_ibge6</th>\n",
       "      <th>pib_capita_02</th>\n",
       "      <th>op_01_04</th>\n",
       "      <th>...</th>\n",
       "      <th>lfunc_ativ</th>\n",
       "      <th>lrec_fisc</th>\n",
       "      <th>ncorrupt</th>\n",
       "      <th>valor_corrupt</th>\n",
       "      <th>pcorrupt</th>\n",
       "      <th>dcorrupt</th>\n",
       "      <th>esample2</th>\n",
       "      <th>wm</th>\n",
       "      <th>winning_margin</th>\n",
       "      <th>party</th>\n",
       "    </tr>\n",
       "  </thead>\n",
       "  <tbody>\n",
       "    <tr>\n",
       "      <th>0</th>\n",
       "      <td>RO</td>\n",
       "      <td>5</td>\n",
       "      <td>6913597.38</td>\n",
       "      <td>47.0</td>\n",
       "      <td>18207</td>\n",
       "      <td>0.815401</td>\n",
       "      <td>0.248250</td>\n",
       "      <td>566128.0</td>\n",
       "      <td>3548.000977</td>\n",
       "      <td>0</td>\n",
       "      <td>...</td>\n",
       "      <td>6.167517</td>\n",
       "      <td>15.749001</td>\n",
       "      <td>3.0</td>\n",
       "      <td>672785.125</td>\n",
       "      <td>0.097313</td>\n",
       "      <td>1.0</td>\n",
       "      <td>1.0</td>\n",
       "      <td>0.030935</td>\n",
       "      <td>-0.030935</td>\n",
       "      <td>16</td>\n",
       "    </tr>\n",
       "    <tr>\n",
       "      <th>1</th>\n",
       "      <td>RO</td>\n",
       "      <td>7</td>\n",
       "      <td>7135210.78</td>\n",
       "      <td>62.0</td>\n",
       "      <td>10459</td>\n",
       "      <td>0.198203</td>\n",
       "      <td>0.110925</td>\n",
       "      <td>566130.0</td>\n",
       "      <td>4203.421875</td>\n",
       "      <td>0</td>\n",
       "      <td>...</td>\n",
       "      <td>5.641907</td>\n",
       "      <td>15.780552</td>\n",
       "      <td>0.0</td>\n",
       "      <td>0.000</td>\n",
       "      <td>0.000000</td>\n",
       "      <td>0.0</td>\n",
       "      <td>1.0</td>\n",
       "      <td>0.172863</td>\n",
       "      <td>0.172863</td>\n",
       "      <td>3</td>\n",
       "    </tr>\n",
       "    <tr>\n",
       "      <th>2</th>\n",
       "      <td>RO</td>\n",
       "      <td>2</td>\n",
       "      <td>26821074.06</td>\n",
       "      <td>140.0</td>\n",
       "      <td>40884</td>\n",
       "      <td>0.649178</td>\n",
       "      <td>0.254702</td>\n",
       "      <td>566138.0</td>\n",
       "      <td>3904.267334</td>\n",
       "      <td>0</td>\n",
       "      <td>...</td>\n",
       "      <td>6.872128</td>\n",
       "      <td>17.104698</td>\n",
       "      <td>1.0</td>\n",
       "      <td>0.000</td>\n",
       "      <td>0.000000</td>\n",
       "      <td>1.0</td>\n",
       "      <td>1.0</td>\n",
       "      <td>0.310956</td>\n",
       "      <td>0.310956</td>\n",
       "      <td>18</td>\n",
       "    </tr>\n",
       "    <tr>\n",
       "      <th>3</th>\n",
       "      <td>RO</td>\n",
       "      <td>4</td>\n",
       "      <td>14710780.70</td>\n",
       "      <td>89.0</td>\n",
       "      <td>47382</td>\n",
       "      <td>0.726457</td>\n",
       "      <td>0.267212</td>\n",
       "      <td>566151.0</td>\n",
       "      <td>4081.257812</td>\n",
       "      <td>0</td>\n",
       "      <td>...</td>\n",
       "      <td>6.979145</td>\n",
       "      <td>16.504091</td>\n",
       "      <td>0.0</td>\n",
       "      <td>0.000</td>\n",
       "      <td>0.000000</td>\n",
       "      <td>0.0</td>\n",
       "      <td>1.0</td>\n",
       "      <td>0.391912</td>\n",
       "      <td>0.391912</td>\n",
       "      <td>18</td>\n",
       "    </tr>\n",
       "    <tr>\n",
       "      <th>4</th>\n",
       "      <td>RO</td>\n",
       "      <td>3</td>\n",
       "      <td>4181534.83</td>\n",
       "      <td>NaN</td>\n",
       "      <td>23874</td>\n",
       "      <td>0.271257</td>\n",
       "      <td>0.134546</td>\n",
       "      <td>566155.0</td>\n",
       "      <td>2192.473633</td>\n",
       "      <td>1</td>\n",
       "      <td>...</td>\n",
       "      <td>6.118097</td>\n",
       "      <td>15.246189</td>\n",
       "      <td>0.0</td>\n",
       "      <td>0.000</td>\n",
       "      <td>0.000000</td>\n",
       "      <td>0.0</td>\n",
       "      <td>1.0</td>\n",
       "      <td>0.186155</td>\n",
       "      <td>0.186155</td>\n",
       "      <td>14</td>\n",
       "    </tr>\n",
       "  </tbody>\n",
       "</table>\n",
       "<p>5 rows × 46 columns</p>\n",
       "</div>"
      ],
      "text/plain": [
       "   uf  nsorteio  totrecursos  tot_os    pop      purb  p_secundario  \\\n",
       "0  RO         5   6913597.38    47.0  18207  0.815401      0.248250   \n",
       "1  RO         7   7135210.78    62.0  10459  0.198203      0.110925   \n",
       "2  RO         2  26821074.06   140.0  40884  0.649178      0.254702   \n",
       "3  RO         4  14710780.70    89.0  47382  0.726457      0.267212   \n",
       "4  RO         3   4181534.83     NaN  23874  0.271257      0.134546   \n",
       "\n",
       "   cod_ibge6  pib_capita_02  op_01_04  ...  lfunc_ativ  lrec_fisc  ncorrupt  \\\n",
       "0   566128.0    3548.000977         0  ...    6.167517  15.749001       3.0   \n",
       "1   566130.0    4203.421875         0  ...    5.641907  15.780552       0.0   \n",
       "2   566138.0    3904.267334         0  ...    6.872128  17.104698       1.0   \n",
       "3   566151.0    4081.257812         0  ...    6.979145  16.504091       0.0   \n",
       "4   566155.0    2192.473633         1  ...    6.118097  15.246189       0.0   \n",
       "\n",
       "   valor_corrupt  pcorrupt  dcorrupt  esample2        wm  winning_margin  \\\n",
       "0     672785.125  0.097313       1.0       1.0  0.030935       -0.030935   \n",
       "1          0.000  0.000000       0.0       1.0  0.172863        0.172863   \n",
       "2          0.000  0.000000       1.0       1.0  0.310956        0.310956   \n",
       "3          0.000  0.000000       0.0       1.0  0.391912        0.391912   \n",
       "4          0.000  0.000000       0.0       1.0  0.186155        0.186155   \n",
       "\n",
       "   party  \n",
       "0     16  \n",
       "1      3  \n",
       "2     18  \n",
       "3     18  \n",
       "4     14  \n",
       "\n",
       "[5 rows x 46 columns]"
      ]
     },
     "execution_count": 7,
     "metadata": {},
     "output_type": "execute_result"
    }
   ],
   "source": [
    "df = df[df['esample2']==1]\n",
    "df.head()"
   ]
  },
  {
   "cell_type": "markdown",
   "id": "f54b6921",
   "metadata": {},
   "source": [
    "The main outcome of interest is *pcorrupt*, namely, the share of audited resources found that involve corruption (a measure of misappropriation). The explanatory variable is *first*, a dummy variable indicating whether the mayor is in his first mandate. The regression of interest is the following: \n",
    "\n",
    "<center>$pcorrupt_i = \\beta_0 + \\beta_1 first_i + \\varepsilon_i$</center>"
   ]
  },
  {
   "cell_type": "code",
   "execution_count": 15,
   "id": "fb81e5e6",
   "metadata": {},
   "outputs": [
    {
     "data": {
      "text/html": [
       "<table class=\"simpletable\">\n",
       "<tr>\n",
       "         <td></td>        <th>pcorrupt</th>\n",
       "</tr>\n",
       "<tr>\n",
       "  <th>Intercept</th>       <td>0.0737</td> \n",
       "</tr>\n",
       "<tr>\n",
       "  <th></th>               <td>(0.0071)</td>\n",
       "</tr>\n",
       "<tr>\n",
       "  <th>first</th>           <td>-0.0188</td>\n",
       "</tr>\n",
       "<tr>\n",
       "  <th></th>               <td>(0.0094)</td>\n",
       "</tr>\n",
       "<tr>\n",
       "  <th>R-squared</th>       <td>0.0084</td> \n",
       "</tr>\n",
       "<tr>\n",
       "  <th>R-squared Adj.</th>  <td>0.0063</td> \n",
       "</tr>\n",
       "</table>"
      ],
      "text/plain": [
       "<class 'statsmodels.iolib.summary2.Summary'>\n",
       "\"\"\"\n",
       "\n",
       "=======================\n",
       "               pcorrupt\n",
       "-----------------------\n",
       "Intercept      0.0737  \n",
       "               (0.0071)\n",
       "first          -0.0188 \n",
       "               (0.0094)\n",
       "R-squared      0.0084  \n",
       "R-squared Adj. 0.0063  \n",
       "=======================\n",
       "Standard errors in\n",
       "parentheses.\n",
       "\"\"\""
      ]
     },
     "execution_count": 15,
     "metadata": {},
     "output_type": "execute_result"
    }
   ],
   "source": [
    "## run the regression above using robust standard errors\n",
    "import statsmodels.formula.api as smf \n",
    "from statsmodels.iolib.summary2 import summary_col\n",
    "\n",
    "ols1 = smf.ols(formula = 'pcorrupt ~ first', data = df)\n",
    "\n",
    "res = ols1.fit()\n",
    "\n",
    "summary_col(res)"
   ]
  },
  {
   "cell_type": "markdown",
   "id": "2f3cc7ec",
   "metadata": {},
   "source": [
    "**What could be some sources of bias, namely, variables that act as confounder?**\n",
    "\n",
    "'wm': 'vote margin',\n",
    "'winning_margin': 'running variable',\n",
    "pmismanagement\n",
    "valor_corrupt"
   ]
  },
  {
   "cell_type": "code",
   "execution_count": 19,
   "id": "2d7c672d",
   "metadata": {},
   "outputs": [],
   "source": [
    "## run the regression above adding the variables that may act as a confounder\n",
    "ols2 = smf.ols(formula = 'pcorrupt ~ first + wm + winning_margin + pmismanagement + valor_corrupt', data = df)\n",
    "\n",
    "res2 = ols2.fit()\n"
   ]
  },
  {
   "cell_type": "code",
   "execution_count": 20,
   "id": "c5dfa4ff",
   "metadata": {},
   "outputs": [
    {
     "data": {
      "text/html": [
       "<table class=\"simpletable\">\n",
       "<tr>\n",
       "         <td></td>        <th>pcorrupt</th>\n",
       "</tr>\n",
       "<tr>\n",
       "  <th>Intercept</th>       <td>0.0455</td> \n",
       "</tr>\n",
       "<tr>\n",
       "  <th></th>               <td>(0.0139)</td>\n",
       "</tr>\n",
       "<tr>\n",
       "  <th>first</th>           <td>-0.0262</td>\n",
       "</tr>\n",
       "<tr>\n",
       "  <th></th>               <td>(0.0168)</td>\n",
       "</tr>\n",
       "<tr>\n",
       "  <th>wm</th>              <td>0.0114</td> \n",
       "</tr>\n",
       "<tr>\n",
       "  <th></th>               <td>(0.0391)</td>\n",
       "</tr>\n",
       "<tr>\n",
       "  <th>winning_margin</th>  <td>-0.0264</td>\n",
       "</tr>\n",
       "<tr>\n",
       "  <th></th>               <td>(0.0395)</td>\n",
       "</tr>\n",
       "<tr>\n",
       "  <th>pmismanagement</th>  <td>0.0078</td> \n",
       "</tr>\n",
       "<tr>\n",
       "  <th></th>               <td>(0.0046)</td>\n",
       "</tr>\n",
       "<tr>\n",
       "  <th>valor_corrupt</th>   <td>0.0000</td> \n",
       "</tr>\n",
       "<tr>\n",
       "  <th></th>               <td>(0.0000)</td>\n",
       "</tr>\n",
       "<tr>\n",
       "  <th>R-squared</th>       <td>0.2606</td> \n",
       "</tr>\n",
       "<tr>\n",
       "  <th>R-squared Adj.</th>  <td>0.2462</td> \n",
       "</tr>\n",
       "</table>"
      ],
      "text/plain": [
       "<class 'statsmodels.iolib.summary2.Summary'>\n",
       "\"\"\"\n",
       "\n",
       "=======================\n",
       "               pcorrupt\n",
       "-----------------------\n",
       "Intercept      0.0455  \n",
       "               (0.0139)\n",
       "first          -0.0262 \n",
       "               (0.0168)\n",
       "wm             0.0114  \n",
       "               (0.0391)\n",
       "winning_margin -0.0264 \n",
       "               (0.0395)\n",
       "pmismanagement 0.0078  \n",
       "               (0.0046)\n",
       "valor_corrupt  0.0000  \n",
       "               (0.0000)\n",
       "R-squared      0.2606  \n",
       "R-squared Adj. 0.2462  \n",
       "=======================\n",
       "Standard errors in\n",
       "parentheses.\n",
       "\"\"\""
      ]
     },
     "execution_count": 20,
     "metadata": {},
     "output_type": "execute_result"
    }
   ],
   "source": [
    "## display the results \n",
    "summary_col(res2)"
   ]
  },
  {
   "cell_type": "markdown",
   "id": "c0ace498",
   "metadata": {},
   "source": [
    "**In your opinion, are there any additional sources of bias that threatens the causal interpretation of the results?**"
   ]
  },
  {
   "cell_type": "markdown",
   "id": "7577103a",
   "metadata": {},
   "source": [
    "To make sure that this is not the case we will use a regression discontinuity design where the running variable is the margin by which the incumbent won or lost in the previous election. Namely, we compare municipalities where incumbents won or lost by a narrow margin. This comparison provides quasi-random assignment of first-term and second-term mayors across these competitive elections."
   ]
  },
  {
   "cell_type": "code",
   "execution_count": 22,
   "id": "42ede8bc",
   "metadata": {
    "scrolled": true
   },
   "outputs": [
    {
     "data": {
      "image/png": "[encoded data removed]",
      "text/plain": [
       "<Figure size 640x480 with 1 Axes>"
      ]
     },
     "metadata": {},
     "output_type": "display_data"
    },
    {
     "name": "stdout",
     "output_type": "stream",
     "text": [
      "\n",
      "Call: rdplot\n",
      "Number of Observations:                   328\n",
      "Kernel:                               Uniform\n",
      "Polynomial Order Est. (p):                  2\n",
      "\n",
      "                                Left      Right\n",
      "------------------------------------------------\n",
      "Number of Observations           126        202\n",
      "Number of Effective Obs          126        202\n",
      "Bandwith poly. fit (h)         0.671      0.918\n",
      "Number of bins scale               1          1\n",
      "Bins Selected                     15         15\n",
      "Average Bin Length             0.045      0.061\n",
      "Median Bin Length              0.045      0.061\n",
      "IMSE-optimal bins                5.0        3.0\n",
      "Mimicking Variance bins         15.0       11.0\n",
      "\n",
      "Relative to IMSE-optimal:\n",
      "Implied scale                    3.0        5.0\n",
      "WIMSE variance weight          0.036      0.008\n",
      "WIMSE bias weight              0.964      0.992\n"
     ]
    },
    {
     "data": {
      "text/plain": []
     },
     "execution_count": 22,
     "metadata": {},
     "output_type": "execute_result"
    }
   ],
   "source": [
    "## plot the RD plot using as running variable the variable winning_margin\n",
    "## use a second order polynomial and 15 bins at each side\n",
    "\n",
    "margin = df.dropna(subset=['winning_margin']).winning_margin\n",
    "corruption = df.dropna(subset=['winning_margin']).pcorrupt\n",
    "rdplot(y=corruption, x=margin, nbins=15, masspoints='adjust', p=2,\n",
    "         title=\"Winning margin and corruption\", \n",
    "         y_label=\"Corruption\",\n",
    "         x_label=\" \")"
   ]
  },
  {
   "cell_type": "code",
   "execution_count": 44,
   "id": "effec1c7",
   "metadata": {},
   "outputs": [
    {
     "ename": "KeyError",
     "evalue": "\"None of [Float64Index([-0.030934900045394897,   0.17286336421966553,\\n                0.31095564365386963,   0.39191150665283203,\\n                 0.1861552894115448,  -0.16741374135017395,\\n                 0.4894978404045105,  -0.18018242716789246,\\n                                nan,   0.17538461089134216,\\n              ...\\n                0.18476900458335876,                   nan,\\n               -0.07983377575874329,  -0.07614737749099731,\\n                0.03082457184791565,  0.013281494379043579,\\n               -0.08926209807395935,    0.1882900893688202,\\n                 0.6212095618247986,                   nan],\\n             dtype='float64', length=476)] are in the [columns]\"",
     "output_type": "error",
     "traceback": [
      "\u001b[0;31m---------------------------------------------------------------------------\u001b[0m",
      "\u001b[0;31mKeyError\u001b[0m                                  Traceback (most recent call last)",
      "\u001b[0;32m<ipython-input-44-75eb581b1660>\u001b[0m in \u001b[0;36m<module>\u001b[0;34m\u001b[0m\n\u001b[1;32m      2\u001b[0m \u001b[0;31m## include 4th degree polynomial and the covariates that you included above\u001b[0m\u001b[0;34m\u001b[0m\u001b[0;34m\u001b[0m\u001b[0;34m\u001b[0m\u001b[0m\n\u001b[1;32m      3\u001b[0m \u001b[0;34m\u001b[0m\u001b[0m\n\u001b[0;32m----> 4\u001b[0;31m covs = pd.concat([df[df['winning_margin']].first,  df[df['winning_margin']].wm, \n\u001b[0m\u001b[1;32m      5\u001b[0m                    df[df['winning_margin']].pmismanagement], axis=1)\n\u001b[1;32m      6\u001b[0m \u001b[0;34m\u001b[0m\u001b[0m\n",
      "\u001b[0;32m/opt/miniconda3/lib/python3.9/site-packages/pandas/core/frame.py\u001b[0m in \u001b[0;36m__getitem__\u001b[0;34m(self, key)\u001b[0m\n\u001b[1;32m   3462\u001b[0m             \u001b[0;32mif\u001b[0m \u001b[0mis_iterator\u001b[0m\u001b[0;34m(\u001b[0m\u001b[0mkey\u001b[0m\u001b[0;34m)\u001b[0m\u001b[0;34m:\u001b[0m\u001b[0;34m\u001b[0m\u001b[0;34m\u001b[0m\u001b[0m\n\u001b[1;32m   3463\u001b[0m                 \u001b[0mkey\u001b[0m \u001b[0;34m=\u001b[0m \u001b[0mlist\u001b[0m\u001b[0;34m(\u001b[0m\u001b[0mkey\u001b[0m\u001b[0;34m)\u001b[0m\u001b[0;34m\u001b[0m\u001b[0;34m\u001b[0m\u001b[0m\n\u001b[0;32m-> 3464\u001b[0;31m             \u001b[0mindexer\u001b[0m \u001b[0;34m=\u001b[0m \u001b[0mself\u001b[0m\u001b[0;34m.\u001b[0m\u001b[0mloc\u001b[0m\u001b[0;34m.\u001b[0m\u001b[0m_get_listlike_indexer\u001b[0m\u001b[0;34m(\u001b[0m\u001b[0mkey\u001b[0m\u001b[0;34m,\u001b[0m \u001b[0maxis\u001b[0m\u001b[0;34m=\u001b[0m\u001b[0;36m1\u001b[0m\u001b[0;34m)\u001b[0m\u001b[0;34m[\u001b[0m\u001b[0;36m1\u001b[0m\u001b[0;34m]\u001b[0m\u001b[0;34m\u001b[0m\u001b[0;34m\u001b[0m\u001b[0m\n\u001b[0m\u001b[1;32m   3465\u001b[0m \u001b[0;34m\u001b[0m\u001b[0m\n\u001b[1;32m   3466\u001b[0m         \u001b[0;31m# take() does not accept boolean indexers\u001b[0m\u001b[0;34m\u001b[0m\u001b[0;34m\u001b[0m\u001b[0;34m\u001b[0m\u001b[0m\n",
      "\u001b[0;32m/opt/miniconda3/lib/python3.9/site-packages/pandas/core/indexing.py\u001b[0m in \u001b[0;36m_get_listlike_indexer\u001b[0;34m(self, key, axis)\u001b[0m\n\u001b[1;32m   1312\u001b[0m             \u001b[0mkeyarr\u001b[0m\u001b[0;34m,\u001b[0m \u001b[0mindexer\u001b[0m\u001b[0;34m,\u001b[0m \u001b[0mnew_indexer\u001b[0m \u001b[0;34m=\u001b[0m \u001b[0max\u001b[0m\u001b[0;34m.\u001b[0m\u001b[0m_reindex_non_unique\u001b[0m\u001b[0;34m(\u001b[0m\u001b[0mkeyarr\u001b[0m\u001b[0;34m)\u001b[0m\u001b[0;34m\u001b[0m\u001b[0;34m\u001b[0m\u001b[0m\n\u001b[1;32m   1313\u001b[0m \u001b[0;34m\u001b[0m\u001b[0m\n\u001b[0;32m-> 1314\u001b[0;31m         \u001b[0mself\u001b[0m\u001b[0;34m.\u001b[0m\u001b[0m_validate_read_indexer\u001b[0m\u001b[0;34m(\u001b[0m\u001b[0mkeyarr\u001b[0m\u001b[0;34m,\u001b[0m \u001b[0mindexer\u001b[0m\u001b[0;34m,\u001b[0m \u001b[0maxis\u001b[0m\u001b[0;34m)\u001b[0m\u001b[0;34m\u001b[0m\u001b[0;34m\u001b[0m\u001b[0m\n\u001b[0m\u001b[1;32m   1315\u001b[0m \u001b[0;34m\u001b[0m\u001b[0m\n\u001b[1;32m   1316\u001b[0m         if needs_i8_conversion(ax.dtype) or isinstance(\n",
      "\u001b[0;32m/opt/miniconda3/lib/python3.9/site-packages/pandas/core/indexing.py\u001b[0m in \u001b[0;36m_validate_read_indexer\u001b[0;34m(self, key, indexer, axis)\u001b[0m\n\u001b[1;32m   1372\u001b[0m                 \u001b[0;32mif\u001b[0m \u001b[0muse_interval_msg\u001b[0m\u001b[0;34m:\u001b[0m\u001b[0;34m\u001b[0m\u001b[0;34m\u001b[0m\u001b[0m\n\u001b[1;32m   1373\u001b[0m                     \u001b[0mkey\u001b[0m \u001b[0;34m=\u001b[0m \u001b[0mlist\u001b[0m\u001b[0;34m(\u001b[0m\u001b[0mkey\u001b[0m\u001b[0;34m)\u001b[0m\u001b[0;34m\u001b[0m\u001b[0;34m\u001b[0m\u001b[0m\n\u001b[0;32m-> 1374\u001b[0;31m                 \u001b[0;32mraise\u001b[0m \u001b[0mKeyError\u001b[0m\u001b[0;34m(\u001b[0m\u001b[0;34mf\"None of [{key}] are in the [{axis_name}]\"\u001b[0m\u001b[0;34m)\u001b[0m\u001b[0;34m\u001b[0m\u001b[0;34m\u001b[0m\u001b[0m\n\u001b[0m\u001b[1;32m   1375\u001b[0m \u001b[0;34m\u001b[0m\u001b[0m\n\u001b[1;32m   1376\u001b[0m             \u001b[0mnot_found\u001b[0m \u001b[0;34m=\u001b[0m \u001b[0mlist\u001b[0m\u001b[0;34m(\u001b[0m\u001b[0mensure_index\u001b[0m\u001b[0;34m(\u001b[0m\u001b[0mkey\u001b[0m\u001b[0;34m)\u001b[0m\u001b[0;34m[\u001b[0m\u001b[0mmissing_mask\u001b[0m\u001b[0;34m.\u001b[0m\u001b[0mnonzero\u001b[0m\u001b[0;34m(\u001b[0m\u001b[0;34m)\u001b[0m\u001b[0;34m[\u001b[0m\u001b[0;36m0\u001b[0m\u001b[0;34m]\u001b[0m\u001b[0;34m]\u001b[0m\u001b[0;34m.\u001b[0m\u001b[0munique\u001b[0m\u001b[0;34m(\u001b[0m\u001b[0;34m)\u001b[0m\u001b[0;34m)\u001b[0m\u001b[0;34m\u001b[0m\u001b[0;34m\u001b[0m\u001b[0m\n",
      "\u001b[0;31mKeyError\u001b[0m: \"None of [Float64Index([-0.030934900045394897,   0.17286336421966553,\\n                0.31095564365386963,   0.39191150665283203,\\n                 0.1861552894115448,  -0.16741374135017395,\\n                 0.4894978404045105,  -0.18018242716789246,\\n                                nan,   0.17538461089134216,\\n              ...\\n                0.18476900458335876,                   nan,\\n               -0.07983377575874329,  -0.07614737749099731,\\n                0.03082457184791565,  0.013281494379043579,\\n               -0.08926209807395935,    0.1882900893688202,\\n                 0.6212095618247986,                   nan],\\n             dtype='float64', length=476)] are in the [columns]\""
     ]
    }
   ],
   "source": [
    "## run the RD regression using the same dependent and explanatory variable as before\n",
    "## include 4th degree polynomial and the covariates that you included above\n",
    "\n",
    "covs = pd.concat([df[df['winning_margin']].first,  df[df['winning_margin']].wm, \n",
    "                   df[df['winning_margin']].pmismanagement], axis=1)\n",
    "\n",
    "margin = df[df['winning_margin']].winning_margin\n",
    "y = df[df['winning_margin']].pcorrupt\n",
    "       \n",
    "print(rdrobust(y=y, x=margin, covs=covs, p=4))"
   ]
  },
  {
   "cell_type": "markdown",
   "id": "cad61bfd",
   "metadata": {},
   "source": [
    "## Difference-in-Differences"
   ]
  },
  {
   "cell_type": "markdown",
   "id": "fa8ffa5c",
   "metadata": {},
   "source": [
    "In this part you will use data from Argentina to investigate the causal effect of police on crime. Following the paper by [Di Tella and Schargrodsky (2004)](https://www.aeaweb.org/articles?id=10.1257/000282804322970733), you will exploit the follow-up of a terrorist attack tto the Jewish center in Buenos Aires in July 1994, after which all Jewish institution received police protection. This event induced a geographical allocation of police forces orthogonal to a crime regression allowing to isolate the causal effect of having more police in a neighborhood on a proxy for crime (car thefts), through a difference-in-differences analysis. "
   ]
  },
  {
   "cell_type": "code",
   "execution_count": null,
   "id": "7ab5ae06",
   "metadata": {
    "scrolled": false
   },
   "outputs": [],
   "source": [
    "df = pd.read_stata('data/HW04_data_DiD.dta')\n",
    "df_labels = pd.read_stata('data/HW04_data_DiD.dta', iterator=True).variable_labels()\n",
    "df_labels"
   ]
  },
  {
   "cell_type": "code",
   "execution_count": null,
   "id": "5f20f3a2",
   "metadata": {},
   "outputs": [],
   "source": [
    "df.head()"
   ]
  },
  {
   "cell_type": "markdown",
   "id": "616c5d91",
   "metadata": {},
   "source": [
    "The main outcome of interest is *totrob*, the total number of car thefts (proxy for criminal activity). The main explanatory variable is a dummy variable indicating whether the there is a Jewish institution in the neighborhood **and** the observation is after July (*inst1p*). The main regression is the following: \n",
    "\n",
    "<center>$totrob_i = \\beta_0 + \\beta_1 inst1p_i + \\varepsilon_i$</center>"
   ]
  },
  {
   "cell_type": "code",
   "execution_count": null,
   "id": "499420b5",
   "metadata": {},
   "outputs": [],
   "source": [
    "## Run the regression above with robust standard errors\n",
    "import statsmodels.formula.api as smf\n",
    "\n",
    "ols1 = ..."
   ]
  },
  {
   "cell_type": "markdown",
   "id": "e8c68f0a",
   "metadata": {},
   "source": [
    "**Why this estimate CANNOT be interpreted as causal?**"
   ]
  },
  {
   "cell_type": "code",
   "execution_count": null,
   "id": "d6e19c42",
   "metadata": {},
   "outputs": [],
   "source": [
    "## Plot the time series of car thefts separately for blocks with and without a jewish institutions\n",
    "## Add a vertical line indicating the terrorist attack \n",
    "import seaborn as sns\n",
    "import matplotlib.pyplot as plt\n"
   ]
  },
  {
   "cell_type": "markdown",
   "id": "6ac63505",
   "metadata": {},
   "source": [
    "**Does the parallel trend assumption hold?**"
   ]
  },
  {
   "cell_type": "code",
   "execution_count": null,
   "id": "817042f8",
   "metadata": {},
   "outputs": [],
   "source": [
    "##Run the regression above including month and block fixed effects\n",
    "from linearmodels import PanelOLS\n",
    "did = ..."
   ]
  },
  {
   "cell_type": "code",
   "execution_count": null,
   "id": "90eb22ad",
   "metadata": {},
   "outputs": [],
   "source": [
    "##show the results from both regressions"
   ]
  },
  {
   "cell_type": "markdown",
   "id": "7222a83a",
   "metadata": {},
   "source": [
    "**Compare and interpret the results**"
   ]
  }
 ],
 "metadata": {
  "kernelspec": {
   "display_name": "Python 3",
   "language": "python",
   "name": "python3"
  },
  "language_info": {
   "codemirror_mode": {
    "name": "ipython",
    "version": 3
   },
   "file_extension": ".py",
   "mimetype": "text/x-python",
   "name": "python",
   "nbconvert_exporter": "python",
   "pygments_lexer": "ipython3",
   "version": "3.9.5"
  }
 },
 "nbformat": 4,
 "nbformat_minor": 5
}
